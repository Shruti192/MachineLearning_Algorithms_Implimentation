{
 "cells": [
  {
   "cell_type": "markdown",
   "id": "396ffa27",
   "metadata": {},
   "source": [
    "###############  GpNo22 Member Information #################################\n",
    "\n",
    "Shruti Shambhawi    19ME31026\n",
    "Ganji Sushma Reddy   19ME31044\n",
    "Rishabh Roy               19ME10097\n",
    "Sameer Kosurkar        19ME10056"
   ]
  },
  {
   "cell_type": "code",
   "execution_count": 1,
   "id": "d9f7c369",
   "metadata": {},
   "outputs": [],
   "source": [
    "#Importing necessary libraries \n",
    "import pandas as pd  \n",
    "import numpy as np \n",
    "import matplotlib.pyplot as plt \n",
    "from sklearn.metrics import accuracy_score,classification_report, confusion_matrix \n",
    "from sklearn.model_selection import train_test_split\n",
    "from matplotlib.colors import ListedColormap\n",
    "from collections import Counter"
   ]
  },
  {
   "cell_type": "code",
   "execution_count": 2,
   "id": "3fe3c04d",
   "metadata": {},
   "outputs": [
    {
     "name": "stdout",
     "output_type": "stream",
     "text": [
      "(301, 4)\n"
     ]
    },
    {
     "data": {
      "text/plain": [
       "array([[ 4.64373629,  6.        , 93.27238958,  1.        ],\n",
       "       [ 2.63327064,  3.        , 73.1965982 ,  1.        ],\n",
       "       [ 5.15158752,  4.        , 74.28885649,  1.        ],\n",
       "       ...,\n",
       "       [ 4.67686524,  4.        , 68.98211452,  0.        ],\n",
       "       [ 3.85489966,  7.        , 76.12470632,  0.        ],\n",
       "       [ 4.67397813,  0.        , 61.92837184,  1.        ]])"
      ]
     },
     "execution_count": 2,
     "metadata": {},
     "output_type": "execute_result"
    }
   ],
   "source": [
    "#########################   Generating random Feature Vectors for 1000 exapmles\n",
    "np.random.seed(42)\n",
    "rng = np.random.default_rng(seed=42)\n",
    "\n",
    "x1 =  (6 - 0) * rng.random((301,1)) + 0                         ### feature_0 with float value and range of [0,6)\n",
    "x2 =  np.random.randint(0,8,(301, 1))                          ### feature_1 with integer value and range of [0,8)\n",
    "x3 =  (100 - 150) * rng.random((301,1)) + 100             ### feature_2 with float value and range of [100,150)\n",
    "x4 =  rng.integers(low=0, high=2, size= (301,1))          ### feature_3 with binary  value of either 0 or 1.\n",
    "\n",
    "X = np.concatenate((x1,x2,x3,x4), axis=1)\n",
    "\n",
    "print(X.shape)\n",
    "X"
   ]
  },
  {
   "cell_type": "code",
   "execution_count": 3,
   "id": "7b953aaa",
   "metadata": {},
   "outputs": [
    {
     "name": "stdout",
     "output_type": "stream",
     "text": [
      "(301, 1)\n"
     ]
    },
    {
     "data": {
      "text/plain": [
       "array([[0],\n",
       "       [2],\n",
       "       [1],\n",
       "       [1],\n",
       "       [0],\n",
       "       [1],\n",
       "       [1],\n",
       "       [2],\n",
       "       [2],\n",
       "       [2],\n",
       "       [2],\n",
       "       [0],\n",
       "       [2],\n",
       "       [1],\n",
       "       [0],\n",
       "       [1],\n",
       "       [1],\n",
       "       [1],\n",
       "       [2],\n",
       "       [2],\n",
       "       [0],\n",
       "       [0],\n",
       "       [2],\n",
       "       [1],\n",
       "       [0],\n",
       "       [2],\n",
       "       [2],\n",
       "       [2],\n",
       "       [1],\n",
       "       [2],\n",
       "       [2],\n",
       "       [2],\n",
       "       [2],\n",
       "       [0],\n",
       "       [0],\n",
       "       [2],\n",
       "       [1],\n",
       "       [0],\n",
       "       [2],\n",
       "       [0],\n",
       "       [0],\n",
       "       [1],\n",
       "       [2],\n",
       "       [2],\n",
       "       [1],\n",
       "       [1],\n",
       "       [2],\n",
       "       [2],\n",
       "       [1],\n",
       "       [0],\n",
       "       [0],\n",
       "       [1],\n",
       "       [0],\n",
       "       [1],\n",
       "       [0],\n",
       "       [0],\n",
       "       [2],\n",
       "       [2],\n",
       "       [0],\n",
       "       [0],\n",
       "       [2],\n",
       "       [2],\n",
       "       [2],\n",
       "       [1],\n",
       "       [0],\n",
       "       [2],\n",
       "       [0],\n",
       "       [1],\n",
       "       [1],\n",
       "       [2],\n",
       "       [1],\n",
       "       [0],\n",
       "       [2],\n",
       "       [0],\n",
       "       [0],\n",
       "       [1],\n",
       "       [1],\n",
       "       [1],\n",
       "       [1],\n",
       "       [1],\n",
       "       [2],\n",
       "       [0],\n",
       "       [0],\n",
       "       [0],\n",
       "       [0],\n",
       "       [1],\n",
       "       [0],\n",
       "       [2],\n",
       "       [2],\n",
       "       [0],\n",
       "       [0],\n",
       "       [2],\n",
       "       [2],\n",
       "       [1],\n",
       "       [2],\n",
       "       [1],\n",
       "       [1],\n",
       "       [1],\n",
       "       [1],\n",
       "       [1],\n",
       "       [0],\n",
       "       [2],\n",
       "       [1],\n",
       "       [2],\n",
       "       [2],\n",
       "       [1],\n",
       "       [0],\n",
       "       [1],\n",
       "       [0],\n",
       "       [2],\n",
       "       [0],\n",
       "       [0],\n",
       "       [0],\n",
       "       [2],\n",
       "       [2],\n",
       "       [0],\n",
       "       [0],\n",
       "       [1],\n",
       "       [0],\n",
       "       [1],\n",
       "       [0],\n",
       "       [1],\n",
       "       [2],\n",
       "       [0],\n",
       "       [0],\n",
       "       [0],\n",
       "       [0],\n",
       "       [1],\n",
       "       [0],\n",
       "       [2],\n",
       "       [2],\n",
       "       [0],\n",
       "       [2],\n",
       "       [0],\n",
       "       [0],\n",
       "       [2],\n",
       "       [0],\n",
       "       [2],\n",
       "       [1],\n",
       "       [0],\n",
       "       [1],\n",
       "       [2],\n",
       "       [1],\n",
       "       [1],\n",
       "       [2],\n",
       "       [1],\n",
       "       [1],\n",
       "       [2],\n",
       "       [1],\n",
       "       [2],\n",
       "       [1],\n",
       "       [2],\n",
       "       [2],\n",
       "       [1],\n",
       "       [1],\n",
       "       [1],\n",
       "       [0],\n",
       "       [0],\n",
       "       [0],\n",
       "       [2],\n",
       "       [1],\n",
       "       [2],\n",
       "       [0],\n",
       "       [1],\n",
       "       [2],\n",
       "       [1],\n",
       "       [2],\n",
       "       [1],\n",
       "       [0],\n",
       "       [0],\n",
       "       [1],\n",
       "       [2],\n",
       "       [0],\n",
       "       [0],\n",
       "       [0],\n",
       "       [1],\n",
       "       [1],\n",
       "       [2],\n",
       "       [2],\n",
       "       [2],\n",
       "       [1],\n",
       "       [1],\n",
       "       [2],\n",
       "       [2],\n",
       "       [1],\n",
       "       [2],\n",
       "       [0],\n",
       "       [1],\n",
       "       [2],\n",
       "       [1],\n",
       "       [0],\n",
       "       [1],\n",
       "       [1],\n",
       "       [1],\n",
       "       [1],\n",
       "       [0],\n",
       "       [1],\n",
       "       [1],\n",
       "       [2],\n",
       "       [1],\n",
       "       [2],\n",
       "       [0],\n",
       "       [0],\n",
       "       [0],\n",
       "       [0],\n",
       "       [2],\n",
       "       [1],\n",
       "       [0],\n",
       "       [1],\n",
       "       [2],\n",
       "       [2],\n",
       "       [2],\n",
       "       [0],\n",
       "       [1],\n",
       "       [1],\n",
       "       [1],\n",
       "       [2],\n",
       "       [0],\n",
       "       [2],\n",
       "       [2],\n",
       "       [1],\n",
       "       [2],\n",
       "       [1],\n",
       "       [0],\n",
       "       [1],\n",
       "       [0],\n",
       "       [1],\n",
       "       [2],\n",
       "       [2],\n",
       "       [0],\n",
       "       [0],\n",
       "       [0],\n",
       "       [1],\n",
       "       [1],\n",
       "       [0],\n",
       "       [2],\n",
       "       [1],\n",
       "       [1],\n",
       "       [1],\n",
       "       [0],\n",
       "       [0],\n",
       "       [0],\n",
       "       [0],\n",
       "       [0],\n",
       "       [2],\n",
       "       [2],\n",
       "       [0],\n",
       "       [1],\n",
       "       [0],\n",
       "       [2],\n",
       "       [2],\n",
       "       [1],\n",
       "       [2],\n",
       "       [0],\n",
       "       [1],\n",
       "       [0],\n",
       "       [0],\n",
       "       [1],\n",
       "       [0],\n",
       "       [2],\n",
       "       [0],\n",
       "       [1],\n",
       "       [1],\n",
       "       [1],\n",
       "       [0],\n",
       "       [1],\n",
       "       [1],\n",
       "       [0],\n",
       "       [2],\n",
       "       [0],\n",
       "       [1],\n",
       "       [1],\n",
       "       [0],\n",
       "       [2],\n",
       "       [1],\n",
       "       [1],\n",
       "       [1],\n",
       "       [0],\n",
       "       [1],\n",
       "       [2],\n",
       "       [1],\n",
       "       [1],\n",
       "       [2],\n",
       "       [1],\n",
       "       [0],\n",
       "       [0],\n",
       "       [0],\n",
       "       [2],\n",
       "       [1],\n",
       "       [0],\n",
       "       [2],\n",
       "       [1],\n",
       "       [2],\n",
       "       [0],\n",
       "       [0],\n",
       "       [0],\n",
       "       [2],\n",
       "       [2],\n",
       "       [0],\n",
       "       [2],\n",
       "       [0]])"
      ]
     },
     "execution_count": 3,
     "metadata": {},
     "output_type": "execute_result"
    }
   ],
   "source": [
    "#########################  Assigning random class label as either 0 or 1 or 2 to each of the 1100 examples \n",
    "Y = np.random.randint(0,3,(301,1))\n",
    "\n",
    "print(Y.shape)\n",
    "Y"
   ]
  },
  {
   "cell_type": "code",
   "execution_count": 4,
   "id": "c996559f",
   "metadata": {},
   "outputs": [
    {
     "data": {
      "image/png": "[encoded data removed]",
      "text/plain": [
       "<Figure size 432x288 with 1 Axes>"
      ]
     },
     "metadata": {
      "needs_background": "light"
     },
     "output_type": "display_data"
    }
   ],
   "source": [
    "###     Visualizing the scatter plot for the generated data in feature_0 (X[0]) v/s feature_1 (X[1]) plane  #########################\n",
    "cmap1 = ListedColormap(['#f50000','#8bf500', '#0072f5'])\n",
    "plt.figure()\n",
    "plt.scatter(X[:,0],X[:,1], c=Y, cmap=cmap1, edgecolor='k', s=20)\n",
    "plt.show()"
   ]
  },
  {
   "cell_type": "code",
   "execution_count": 5,
   "id": "eab48af4",
   "metadata": {},
   "outputs": [
    {
     "data": {
      "image/png": "[encoded data removed]",
      "text/plain": [
       "<Figure size 432x288 with 1 Axes>"
      ]
     },
     "metadata": {
      "needs_background": "light"
     },
     "output_type": "display_data"
    }
   ],
   "source": [
    "####    Visualizing the scatter plot for the generated data in feature_0 (X[0]) v/s feature_2 (X[2]) plane   #######################\n",
    "cmap1 = ListedColormap(['#f50000','#8bf500', '#0072f5'])\n",
    "plt.figure()\n",
    "plt.scatter(X[:,0],X[:,2], c=Y, cmap=cmap1, edgecolor='k', s=20)\n",
    "plt.show()"
   ]
  },
  {
   "cell_type": "code",
   "execution_count": 6,
   "id": "a39f33dc",
   "metadata": {},
   "outputs": [
    {
     "data": {
      "image/png": "[encoded data removed]",
      "text/plain": [
       "<Figure size 432x288 with 1 Axes>"
      ]
     },
     "metadata": {
      "needs_background": "light"
     },
     "output_type": "display_data"
    }
   ],
   "source": [
    "###############   Visualizing the scatter plot for the generated data in feature_0 (X[0]) v/s feature_3 (X[3]) plane\n",
    "cmap1 = ListedColormap(['#f50000','#8bf500', '#0072f5'])\n",
    "plt.figure()\n",
    "plt.scatter(X[:,0],X[:,3], c=Y, cmap=cmap1, edgecolor='k', s=20)\n",
    "plt.show()"
   ]
  },
  {
   "cell_type": "code",
   "execution_count": 7,
   "id": "c63dcc27",
   "metadata": {},
   "outputs": [],
   "source": [
    "#Spliting  the given data into 80 percent training data and 20 percent testing data\n",
    "from sklearn.model_selection import train_test_split\n",
    "X_train,X_test,Y_train,Y_test = train_test_split(X,Y,test_size=0.20,random_state=0)"
   ]
  },
  {
   "cell_type": "markdown",
   "id": "d140dbab",
   "metadata": {},
   "source": [
    "# Results from DT_Classification Algorithm written from scratch in Decision_Tree.py "
   ]
  },
  {
   "cell_type": "code",
   "execution_count": 8,
   "id": "6cf0a293",
   "metadata": {},
   "outputs": [
    {
     "name": "stdout",
     "output_type": "stream",
     "text": [
      "X_0 <= 1.0018375194462235 ? 0.019824456719403583\n",
      " left:X_2 <= 53.62697707479867 ? 0.028031034899166696\n",
      "  left:0.0\n",
      "  right:X_0 <= 0.7909333067191262 ? 0.026072469804248155\n",
      "    left:X_1 <= 4.0 ? 0.04762665905523056\n",
      "        left:0.0\n",
      "        right:1.0\n",
      "    right:X_2 <= 61.854849048023546 ? 0.1071428571428572\n",
      "        left:1.0\n",
      "        right:0.0\n",
      " right:X_2 <= 98.55002483977653 ? 0.014027348593697697\n",
      "  left:X_2 <= 93.3948581349228 ? 0.010860055788648681\n",
      "    left:X_2 <= 80.37136420790401 ? 0.027632350729927535\n",
      "        left:2.0\n",
      "        right:0.0\n",
      "    right:X_0 <= 1.7083204940276133 ? 0.14\n",
      "        left:1.0\n",
      "        right:2.0\n",
      "  right:1.0\n"
     ]
    }
   ],
   "source": [
    "from Decision_Tree import Node, Classification_Tree\n",
    "tree_model_1 =Classification_Tree(min_samples_split=3, max_depth=3)\n",
    "tree_model_1.fit(X_train,Y_train)\n",
    "tree_model_1.print_tree()"
   ]
  },
  {
   "cell_type": "code",
   "execution_count": 9,
   "id": "452652e8",
   "metadata": {},
   "outputs": [
    {
     "data": {
      "text/plain": [
       "0.2786885245901639"
      ]
     },
     "execution_count": 9,
     "metadata": {},
     "output_type": "execute_result"
    }
   ],
   "source": [
    "Y_pred1 = tree_model_1.predict(X_test) \n",
    "accuracy_score(Y_test, Y_pred1)"
   ]
  },
  {
   "cell_type": "code",
   "execution_count": 10,
   "id": "8640ee06",
   "metadata": {},
   "outputs": [
    {
     "name": "stdout",
     "output_type": "stream",
     "text": [
      "              precision    recall  f1-score   support\n",
      "\n",
      "           0       0.22      0.22      0.22        23\n",
      "           1       0.25      0.06      0.10        17\n",
      "           2       0.32      0.52      0.40        21\n",
      "\n",
      "    accuracy                           0.28        61\n",
      "   macro avg       0.26      0.27      0.24        61\n",
      "weighted avg       0.26      0.28      0.25        61\n",
      "\n"
     ]
    },
    {
     "data": {
      "text/plain": [
       "array([[ 5,  2, 16],\n",
       "       [ 9,  1,  7],\n",
       "       [ 9,  1, 11]], dtype=int64)"
      ]
     },
     "execution_count": 10,
     "metadata": {},
     "output_type": "execute_result"
    }
   ],
   "source": [
    "print(classification_report(Y_test, Y_pred1))\n",
    "CM1 = confusion_matrix(Y_test, Y_pred1)\n",
    "CM1"
   ]
  },
  {
   "cell_type": "code",
   "execution_count": 11,
   "id": "8aef1598",
   "metadata": {},
   "outputs": [
    {
     "data": {
      "text/plain": [
       "Text(42.0, 0.5, 'Truth')"
      ]
     },
     "execution_count": 11,
     "metadata": {},
     "output_type": "execute_result"
    },
    {
     "data": {
      "image/png": "[encoded data removed]",
      "text/plain": [
       "<Figure size 504x360 with 2 Axes>"
      ]
     },
     "metadata": {
      "needs_background": "light"
     },
     "output_type": "display_data"
    }
   ],
   "source": [
    "############ Plotting the Heat map\n",
    "%matplotlib inline\n",
    "import matplotlib.pyplot as plt\n",
    "import seaborn as sn\n",
    "plt.figure(figsize=(7,5))\n",
    "sn.heatmap(CM1, annot=True)\n",
    "plt.xlabel('Predicted_1')\n",
    "plt.ylabel('Truth')"
   ]
  },
  {
   "cell_type": "code",
   "execution_count": 12,
   "id": "ccafe86f",
   "metadata": {},
   "outputs": [
    {
     "name": "stdout",
     "output_type": "stream",
     "text": [
      "recall_1: 0\n",
      "precision_1: [0.2173913]\n",
      "f1_score_1: 0\n"
     ]
    }
   ],
   "source": [
    "#Find the recall,f1-score for class type '0'\n",
    "from sklearn.metrics import recall_score, precision_score\n",
    "recall_1 = int(recall_score(Y_test, Y_pred1, average=None, labels=[0], zero_division=1))\n",
    "precision_1=precision_score(Y_test, Y_pred1, average=None, labels=[0], zero_division=1)\n",
    "f1_sc_1= int(2*(recall_1*precision_1) / (recall_1+precision_1))\n",
    "print('recall_1: '+str(recall_1))\n",
    "print('precision_1: '+str(precision_1))\n",
    "print('f1_score_1: '+str(f1_sc_1))"
   ]
  },
  {
   "cell_type": "code",
   "execution_count": 13,
   "id": "f73ba546",
   "metadata": {},
   "outputs": [
    {
     "name": "stdout",
     "output_type": "stream",
     "text": [
      "Mean Absolute error_1:        1.1311475409836065\n",
      "Mean Squared error_1:         1.9508196721311475\n",
      "Root mean squared error_1:    1.3967174632441406\n"
     ]
    }
   ],
   "source": [
    "#Calculate Mean Absolute Error,Mean Squared Error and Root Mean Squared Error\n",
    "from sklearn.metrics import mean_absolute_error, mean_squared_error\n",
    "mae_1=mean_absolute_error(Y_test, Y_pred1)\n",
    "print('Mean Absolute error_1:        %s'%(str(mae_1)),end='\\n')\n",
    "mse_1 = mean_squared_error(Y_test, Y_pred1)\n",
    "print('Mean Squared error_1:         '+str(mse_1))\n",
    "from math import sqrt\n",
    "rms_1 = sqrt(mean_squared_error(Y_test, Y_pred1))\n",
    "print('Root mean squared error_1:    '+str(rms_1))\n",
    "# print(mae,mse,rms)"
   ]
  },
  {
   "cell_type": "markdown",
   "id": "66ad3d18",
   "metadata": {},
   "source": [
    "# Results using DecisionTreeClassifier from sklearn tree"
   ]
  },
  {
   "cell_type": "code",
   "execution_count": 14,
   "id": "3859245b",
   "metadata": {},
   "outputs": [
    {
     "data": {
      "text/plain": [
       "[Text(0.4602821238348868, 0.9722222222222222, 'X[0] <= 0.947\\nentropy = 1.582\\nsamples = 240\\nvalue = [79, 87, 74]'),\n",
       " Text(0.10386151797603196, 0.9166666666666666, 'X[0] <= 0.279\\nentropy = 1.329\\nsamples = 48\\nvalue = [23, 21, 4]'),\n",
       " Text(0.06391478029294274, 0.8611111111111112, 'X[2] <= 88.415\\nentropy = 1.573\\nsamples = 11\\nvalue = [4, 4, 3]'),\n",
       " Text(0.05326231691078562, 0.8055555555555556, 'X[0] <= 0.262\\nentropy = 1.392\\nsamples = 9\\nvalue = [4, 4, 1]'),\n",
       " Text(0.0426098535286285, 0.75, 'X[2] <= 65.553\\nentropy = 1.0\\nsamples = 8\\nvalue = [4, 4, 0]'),\n",
       " Text(0.02130492676431425, 0.6944444444444444, 'X[0] <= 0.161\\nentropy = 0.811\\nsamples = 4\\nvalue = [3, 1, 0]'),\n",
       " Text(0.010652463382157125, 0.6388888888888888, 'entropy = 0.0\\nsamples = 2\\nvalue = [2, 0, 0]'),\n",
       " Text(0.03195739014647137, 0.6388888888888888, 'X[2] <= 57.504\\nentropy = 1.0\\nsamples = 2\\nvalue = [1, 1, 0]'),\n",
       " Text(0.02130492676431425, 0.5833333333333334, 'entropy = 0.0\\nsamples = 1\\nvalue = [0, 1, 0]'),\n",
       " Text(0.0426098535286285, 0.5833333333333334, 'entropy = 0.0\\nsamples = 1\\nvalue = [1, 0, 0]'),\n",
       " Text(0.06391478029294274, 0.6944444444444444, 'X[2] <= 78.253\\nentropy = 0.811\\nsamples = 4\\nvalue = [1, 3, 0]'),\n",
       " Text(0.05326231691078562, 0.6388888888888888, 'entropy = 0.0\\nsamples = 3\\nvalue = [0, 3, 0]'),\n",
       " Text(0.07456724367509987, 0.6388888888888888, 'entropy = 0.0\\nsamples = 1\\nvalue = [1, 0, 0]'),\n",
       " Text(0.06391478029294274, 0.75, 'entropy = 0.0\\nsamples = 1\\nvalue = [0, 0, 1]'),\n",
       " Text(0.07456724367509987, 0.8055555555555556, 'entropy = 0.0\\nsamples = 2\\nvalue = [0, 0, 2]'),\n",
       " Text(0.14380825565912117, 0.8611111111111112, 'X[2] <= 57.61\\nentropy = 1.15\\nsamples = 37\\nvalue = [19, 17, 1]'),\n",
       " Text(0.13315579227696406, 0.8055555555555556, 'entropy = 0.0\\nsamples = 3\\nvalue = [3, 0, 0]'),\n",
       " Text(0.15446071904127828, 0.8055555555555556, 'X[0] <= 0.815\\nentropy = 1.161\\nsamples = 34\\nvalue = [16, 17, 1]'),\n",
       " Text(0.1278295605858855, 0.75, 'X[0] <= 0.641\\nentropy = 1.175\\nsamples = 24\\nvalue = [9, 14, 1]'),\n",
       " Text(0.10652463382157124, 0.6944444444444444, 'X[2] <= 88.884\\nentropy = 0.997\\nsamples = 15\\nvalue = [8, 7, 0]'),\n",
       " Text(0.09587217043941411, 0.6388888888888888, 'X[2] <= 83.84\\nentropy = 0.996\\nsamples = 13\\nvalue = [6, 7, 0]'),\n",
       " Text(0.085219707057257, 0.5833333333333334, 'X[0] <= 0.326\\nentropy = 0.994\\nsamples = 11\\nvalue = [6, 5, 0]'),\n",
       " Text(0.07456724367509987, 0.5277777777777778, 'entropy = 0.0\\nsamples = 2\\nvalue = [2, 0, 0]'),\n",
       " Text(0.09587217043941411, 0.5277777777777778, 'X[1] <= 6.5\\nentropy = 0.991\\nsamples = 9\\nvalue = [4, 5, 0]'),\n",
       " Text(0.085219707057257, 0.4722222222222222, 'X[1] <= 4.5\\nentropy = 0.954\\nsamples = 8\\nvalue = [3, 5, 0]'),\n",
       " Text(0.07456724367509987, 0.4166666666666667, 'X[0] <= 0.553\\nentropy = 0.971\\nsamples = 5\\nvalue = [3, 2, 0]'),\n",
       " Text(0.06391478029294274, 0.3611111111111111, 'entropy = 0.0\\nsamples = 2\\nvalue = [0, 2, 0]'),\n",
       " Text(0.085219707057257, 0.3611111111111111, 'entropy = 0.0\\nsamples = 3\\nvalue = [3, 0, 0]'),\n",
       " Text(0.09587217043941411, 0.4166666666666667, 'entropy = 0.0\\nsamples = 3\\nvalue = [0, 3, 0]'),\n",
       " Text(0.10652463382157124, 0.4722222222222222, 'entropy = 0.0\\nsamples = 1\\nvalue = [1, 0, 0]'),\n",
       " Text(0.10652463382157124, 0.5833333333333334, 'entropy = 0.0\\nsamples = 2\\nvalue = [0, 2, 0]'),\n",
       " Text(0.11717709720372836, 0.6388888888888888, 'entropy = 0.0\\nsamples = 2\\nvalue = [2, 0, 0]'),\n",
       " Text(0.14913448735019974, 0.6944444444444444, 'X[2] <= 96.737\\nentropy = 0.986\\nsamples = 9\\nvalue = [1, 7, 1]'),\n",
       " Text(0.1384820239680426, 0.6388888888888888, 'X[1] <= 5.5\\nentropy = 0.544\\nsamples = 8\\nvalue = [0, 7, 1]'),\n",
       " Text(0.1278295605858855, 0.5833333333333334, 'entropy = 0.0\\nsamples = 5\\nvalue = [0, 5, 0]'),\n",
       " Text(0.14913448735019974, 0.5833333333333334, 'X[1] <= 6.5\\nentropy = 0.918\\nsamples = 3\\nvalue = [0, 2, 1]'),\n",
       " Text(0.1384820239680426, 0.5277777777777778, 'X[0] <= 0.67\\nentropy = 1.0\\nsamples = 2\\nvalue = [0, 1, 1]'),\n",
       " Text(0.1278295605858855, 0.4722222222222222, 'entropy = 0.0\\nsamples = 1\\nvalue = [0, 1, 0]'),\n",
       " Text(0.14913448735019974, 0.4722222222222222, 'entropy = 0.0\\nsamples = 1\\nvalue = [0, 0, 1]'),\n",
       " Text(0.15978695073235685, 0.5277777777777778, 'entropy = 0.0\\nsamples = 1\\nvalue = [0, 1, 0]'),\n",
       " Text(0.15978695073235685, 0.6388888888888888, 'entropy = 0.0\\nsamples = 1\\nvalue = [1, 0, 0]'),\n",
       " Text(0.1810918774966711, 0.75, 'X[0] <= 0.865\\nentropy = 0.881\\nsamples = 10\\nvalue = [7, 3, 0]'),\n",
       " Text(0.170439414114514, 0.6944444444444444, 'entropy = 0.0\\nsamples = 4\\nvalue = [4, 0, 0]'),\n",
       " Text(0.19174434087882822, 0.6944444444444444, 'X[2] <= 77.106\\nentropy = 1.0\\nsamples = 6\\nvalue = [3, 3, 0]'),\n",
       " Text(0.1810918774966711, 0.6388888888888888, 'entropy = 0.0\\nsamples = 1\\nvalue = [0, 1, 0]'),\n",
       " Text(0.20239680426098536, 0.6388888888888888, 'X[2] <= 95.521\\nentropy = 0.971\\nsamples = 5\\nvalue = [3, 2, 0]'),\n",
       " Text(0.19174434087882822, 0.5833333333333334, 'X[0] <= 0.924\\nentropy = 0.811\\nsamples = 4\\nvalue = [3, 1, 0]'),\n",
       " Text(0.1810918774966711, 0.5277777777777778, 'entropy = 0.0\\nsamples = 3\\nvalue = [3, 0, 0]'),\n",
       " Text(0.20239680426098536, 0.5277777777777778, 'entropy = 0.0\\nsamples = 1\\nvalue = [0, 1, 0]'),\n",
       " Text(0.21304926764314247, 0.5833333333333334, 'entropy = 0.0\\nsamples = 1\\nvalue = [0, 1, 0]'),\n",
       " Text(0.8167027296937417, 0.9166666666666666, 'X[2] <= 98.654\\nentropy = 1.579\\nsamples = 192\\nvalue = [56, 66, 70]'),\n",
       " Text(0.8060502663115846, 0.8611111111111112, 'X[2] <= 93.704\\nentropy = 1.579\\nsamples = 188\\nvalue = [56, 62, 70]'),\n",
       " Text(0.6919940079893475, 0.8055555555555556, 'X[2] <= 80.49\\nentropy = 1.584\\nsamples = 168\\nvalue = [54, 56, 58]'),\n",
       " Text(0.5411118508655126, 0.75, 'X[2] <= 74.789\\nentropy = 1.552\\nsamples = 120\\nvalue = [32, 36, 52]'),\n",
       " Text(0.4444074567243675, 0.6944444444444444, 'X[0] <= 5.369\\nentropy = 1.547\\nsamples = 94\\nvalue = [22, 33, 39]'),\n",
       " Text(0.3415446071904128, 0.6388888888888888, 'X[0] <= 4.982\\nentropy = 1.542\\nsamples = 81\\nvalue = [18, 32, 31]'),\n",
       " Text(0.33089214380825566, 0.5833333333333334, 'X[2] <= 61.625\\nentropy = 1.551\\nsamples = 75\\nvalue = [18, 26, 31]'),\n",
       " Text(0.2237017310252996, 0.5277777777777778, 'X[0] <= 1.379\\nentropy = 1.43\\nsamples = 34\\nvalue = [8, 7, 19]'),\n",
       " Text(0.21304926764314247, 0.4722222222222222, 'entropy = 0.0\\nsamples = 4\\nvalue = [0, 0, 4]'),\n",
       " Text(0.23435419440745672, 0.4722222222222222, 'X[0] <= 1.855\\nentropy = 1.498\\nsamples = 30\\nvalue = [8, 7, 15]'),\n",
       " Text(0.18508655126498003, 0.4166666666666667, 'X[0] <= 1.446\\nentropy = 0.971\\nsamples = 5\\nvalue = [2, 3, 0]'),\n",
       " Text(0.1744340878828229, 0.3611111111111111, 'entropy = 0.0\\nsamples = 1\\nvalue = [1, 0, 0]'),\n",
       " Text(0.19573901464713714, 0.3611111111111111, 'X[2] <= 54.641\\nentropy = 0.811\\nsamples = 4\\nvalue = [1, 3, 0]'),\n",
       " Text(0.18508655126498003, 0.3055555555555556, 'entropy = 0.0\\nsamples = 3\\nvalue = [0, 3, 0]'),\n",
       " Text(0.20639147802929428, 0.3055555555555556, 'entropy = 0.0\\nsamples = 1\\nvalue = [1, 0, 0]'),\n",
       " Text(0.2836218375499334, 0.4166666666666667, 'X[1] <= 5.5\\nentropy = 1.359\\nsamples = 25\\nvalue = [6, 4, 15]'),\n",
       " Text(0.25432756324900135, 0.3611111111111111, 'X[3] <= 0.5\\nentropy = 1.522\\nsamples = 15\\nvalue = [6, 3, 6]'),\n",
       " Text(0.22769640479360853, 0.3055555555555556, 'X[2] <= 55.281\\nentropy = 1.539\\nsamples = 11\\nvalue = [5, 3, 3]'),\n",
       " Text(0.20639147802929428, 0.25, 'X[1] <= 4.0\\nentropy = 0.918\\nsamples = 3\\nvalue = [1, 2, 0]'),\n",
       " Text(0.19573901464713714, 0.19444444444444445, 'entropy = 0.0\\nsamples = 2\\nvalue = [0, 2, 0]'),\n",
       " Text(0.2170439414114514, 0.19444444444444445, 'entropy = 0.0\\nsamples = 1\\nvalue = [1, 0, 0]'),\n",
       " Text(0.24900133155792276, 0.25, 'X[2] <= 57.225\\nentropy = 1.406\\nsamples = 8\\nvalue = [4, 1, 3]'),\n",
       " Text(0.23834886817576564, 0.19444444444444445, 'entropy = 0.0\\nsamples = 2\\nvalue = [0, 0, 2]'),\n",
       " Text(0.2596537949400799, 0.19444444444444445, 'X[2] <= 61.223\\nentropy = 1.252\\nsamples = 6\\nvalue = [4, 1, 1]'),\n",
       " Text(0.24900133155792276, 0.1388888888888889, 'X[1] <= 3.0\\nentropy = 0.722\\nsamples = 5\\nvalue = [4, 1, 0]'),\n",
       " Text(0.23834886817576564, 0.08333333333333333, 'entropy = 0.0\\nsamples = 3\\nvalue = [3, 0, 0]'),\n",
       " Text(0.2596537949400799, 0.08333333333333333, 'X[2] <= 58.108\\nentropy = 1.0\\nsamples = 2\\nvalue = [1, 1, 0]'),\n",
       " Text(0.24900133155792276, 0.027777777777777776, 'entropy = 0.0\\nsamples = 1\\nvalue = [1, 0, 0]'),\n",
       " Text(0.27030625832223704, 0.027777777777777776, 'entropy = 0.0\\nsamples = 1\\nvalue = [0, 1, 0]'),\n",
       " Text(0.27030625832223704, 0.1388888888888889, 'entropy = 0.0\\nsamples = 1\\nvalue = [0, 0, 1]'),\n",
       " Text(0.2809587217043941, 0.3055555555555556, 'X[0] <= 2.673\\nentropy = 0.811\\nsamples = 4\\nvalue = [1, 0, 3]'),\n",
       " Text(0.27030625832223704, 0.25, 'entropy = 0.0\\nsamples = 1\\nvalue = [1, 0, 0]'),\n",
       " Text(0.29161118508655126, 0.25, 'entropy = 0.0\\nsamples = 3\\nvalue = [0, 0, 3]'),\n",
       " Text(0.3129161118508655, 0.3611111111111111, 'X[3] <= 0.5\\nentropy = 0.469\\nsamples = 10\\nvalue = [0, 1, 9]'),\n",
       " Text(0.3022636484687084, 0.3055555555555556, 'entropy = 0.0\\nsamples = 6\\nvalue = [0, 0, 6]'),\n",
       " Text(0.3235685752330226, 0.3055555555555556, 'X[2] <= 57.147\\nentropy = 0.811\\nsamples = 4\\nvalue = [0, 1, 3]'),\n",
       " Text(0.3129161118508655, 0.25, 'X[2] <= 54.839\\nentropy = 1.0\\nsamples = 2\\nvalue = [0, 1, 1]'),\n",
       " Text(0.3022636484687084, 0.19444444444444445, 'entropy = 0.0\\nsamples = 1\\nvalue = [0, 0, 1]'),\n",
       " Text(0.3235685752330226, 0.19444444444444445, 'entropy = 0.0\\nsamples = 1\\nvalue = [0, 1, 0]'),\n",
       " Text(0.33422103861517977, 0.25, 'entropy = 0.0\\nsamples = 2\\nvalue = [0, 0, 2]'),\n",
       " Text(0.4380825565912117, 0.5277777777777778, 'X[2] <= 70.137\\nentropy = 1.53\\nsamples = 41\\nvalue = [10, 19, 12]'),\n",
       " Text(0.3821571238348868, 0.4722222222222222, 'X[0] <= 2.485\\nentropy = 1.36\\nsamples = 27\\nvalue = [7, 16, 4]'),\n",
       " Text(0.3715046604527297, 0.4166666666666667, 'entropy = 0.0\\nsamples = 8\\nvalue = [0, 8, 0]'),\n",
       " Text(0.39280958721704395, 0.4166666666666667, 'X[2] <= 65.362\\nentropy = 1.529\\nsamples = 19\\nvalue = [7, 8, 4]'),\n",
       " Text(0.355525965379494, 0.3611111111111111, 'X[3] <= 0.5\\nentropy = 1.252\\nsamples = 6\\nvalue = [1, 1, 4]'),\n",
       " Text(0.3448735019973369, 0.3055555555555556, 'entropy = 0.0\\nsamples = 1\\nvalue = [0, 1, 0]'),\n",
       " Text(0.36617842876165113, 0.3055555555555556, 'X[0] <= 4.386\\nentropy = 0.722\\nsamples = 5\\nvalue = [1, 0, 4]'),\n",
       " Text(0.355525965379494, 0.25, 'entropy = 0.0\\nsamples = 4\\nvalue = [0, 0, 4]'),\n",
       " Text(0.37683089214380827, 0.25, 'entropy = 0.0\\nsamples = 1\\nvalue = [1, 0, 0]'),\n",
       " Text(0.43009320905459386, 0.3611111111111111, 'X[3] <= 0.5\\nentropy = 0.996\\nsamples = 13\\nvalue = [6, 7, 0]'),\n",
       " Text(0.40878828229027964, 0.3055555555555556, 'X[0] <= 4.687\\nentropy = 0.863\\nsamples = 7\\nvalue = [5, 2, 0]'),\n",
       " Text(0.3981358189081225, 0.25, 'X[1] <= 0.5\\nentropy = 0.65\\nsamples = 6\\nvalue = [5, 1, 0]'),\n",
       " Text(0.38748335552596536, 0.19444444444444445, 'X[2] <= 68.682\\nentropy = 1.0\\nsamples = 2\\nvalue = [1, 1, 0]'),\n",
       " Text(0.37683089214380827, 0.1388888888888889, 'entropy = 0.0\\nsamples = 1\\nvalue = [1, 0, 0]'),\n",
       " Text(0.3981358189081225, 0.1388888888888889, 'entropy = 0.0\\nsamples = 1\\nvalue = [0, 1, 0]'),\n",
       " Text(0.40878828229027964, 0.19444444444444445, 'entropy = 0.0\\nsamples = 4\\nvalue = [4, 0, 0]'),\n",
       " Text(0.4194407456724368, 0.25, 'entropy = 0.0\\nsamples = 1\\nvalue = [0, 1, 0]'),\n",
       " Text(0.45139813581890814, 0.3055555555555556, 'X[0] <= 3.031\\nentropy = 0.65\\nsamples = 6\\nvalue = [1, 5, 0]'),\n",
       " Text(0.440745672436751, 0.25, 'entropy = 0.0\\nsamples = 1\\nvalue = [1, 0, 0]'),\n",
       " Text(0.4620505992010652, 0.25, 'entropy = 0.0\\nsamples = 5\\nvalue = [0, 5, 0]'),\n",
       " Text(0.4940079893475366, 0.4722222222222222, 'X[1] <= 0.5\\nentropy = 1.414\\nsamples = 14\\nvalue = [3, 3, 8]'),\n",
       " Text(0.4833555259653795, 0.4166666666666667, 'entropy = 0.0\\nsamples = 2\\nvalue = [0, 2, 0]'),\n",
       " Text(0.5046604527296937, 0.4166666666666667, 'X[2] <= 71.956\\nentropy = 1.189\\nsamples = 12\\nvalue = [3, 1, 8]'),\n",
       " Text(0.4940079893475366, 0.3611111111111111, 'entropy = 0.0\\nsamples = 5\\nvalue = [0, 0, 5]'),\n",
       " Text(0.5153129161118508, 0.3611111111111111, 'X[2] <= 72.773\\nentropy = 1.449\\nsamples = 7\\nvalue = [3, 1, 3]'),\n",
       " Text(0.4940079893475366, 0.3055555555555556, 'X[1] <= 2.0\\nentropy = 1.0\\nsamples = 2\\nvalue = [1, 1, 0]'),\n",
       " Text(0.4833555259653795, 0.25, 'entropy = 0.0\\nsamples = 1\\nvalue = [1, 0, 0]'),\n",
       " Text(0.5046604527296937, 0.25, 'entropy = 0.0\\nsamples = 1\\nvalue = [0, 1, 0]'),\n",
       " Text(0.5366178428761651, 0.3055555555555556, 'X[1] <= 5.0\\nentropy = 0.971\\nsamples = 5\\nvalue = [2, 0, 3]'),\n",
       " Text(0.525965379494008, 0.25, 'entropy = 0.0\\nsamples = 3\\nvalue = [0, 0, 3]'),\n",
       " Text(0.5472703062583223, 0.25, 'entropy = 0.0\\nsamples = 2\\nvalue = [2, 0, 0]'),\n",
       " Text(0.3521970705725699, 0.5833333333333334, 'entropy = 0.0\\nsamples = 6\\nvalue = [0, 6, 0]'),\n",
       " Text(0.5472703062583223, 0.6388888888888888, 'X[3] <= 0.5\\nentropy = 1.239\\nsamples = 13\\nvalue = [4, 1, 8]'),\n",
       " Text(0.5153129161118508, 0.5833333333333334, 'X[2] <= 66.608\\nentropy = 0.65\\nsamples = 6\\nvalue = [0, 1, 5]'),\n",
       " Text(0.5046604527296937, 0.5277777777777778, 'entropy = 0.0\\nsamples = 4\\nvalue = [0, 0, 4]'),\n",
       " Text(0.525965379494008, 0.5277777777777778, 'X[0] <= 5.876\\nentropy = 1.0\\nsamples = 2\\nvalue = [0, 1, 1]'),\n",
       " Text(0.5153129161118508, 0.4722222222222222, 'entropy = 0.0\\nsamples = 1\\nvalue = [0, 1, 0]'),\n",
       " Text(0.5366178428761651, 0.4722222222222222, 'entropy = 0.0\\nsamples = 1\\nvalue = [0, 0, 1]'),\n",
       " Text(0.5792276964047937, 0.5833333333333334, 'X[2] <= 66.603\\nentropy = 0.985\\nsamples = 7\\nvalue = [4, 0, 3]'),\n",
       " Text(0.5685752330226365, 0.5277777777777778, 'X[0] <= 5.558\\nentropy = 0.722\\nsamples = 5\\nvalue = [4, 0, 1]'),\n",
       " Text(0.5579227696404794, 0.4722222222222222, 'entropy = 0.0\\nsamples = 4\\nvalue = [4, 0, 0]'),\n",
       " Text(0.5792276964047937, 0.4722222222222222, 'entropy = 0.0\\nsamples = 1\\nvalue = [0, 0, 1]'),\n",
       " Text(0.5898801597869507, 0.5277777777777778, 'entropy = 0.0\\nsamples = 2\\nvalue = [0, 0, 2]'),\n",
       " Text(0.6378162450066578, 0.6944444444444444, 'X[0] <= 1.785\\nentropy = 1.39\\nsamples = 26\\nvalue = [10, 3, 13]'),\n",
       " Text(0.611185086551265, 0.6388888888888888, 'X[0] <= 1.716\\nentropy = 1.0\\nsamples = 4\\nvalue = [2, 2, 0]'),\n",
       " Text(0.6005326231691078, 0.5833333333333334, 'entropy = 0.0\\nsamples = 2\\nvalue = [2, 0, 0]'),\n",
       " Text(0.6218375499334221, 0.5833333333333334, 'entropy = 0.0\\nsamples = 2\\nvalue = [0, 2, 0]'),\n",
       " Text(0.6644474034620506, 0.6388888888888888, 'X[1] <= 2.5\\nentropy = 1.182\\nsamples = 22\\nvalue = [8, 1, 13]'),\n",
       " Text(0.6431424766977364, 0.5833333333333334, 'X[0] <= 2.4\\nentropy = 0.503\\nsamples = 9\\nvalue = [1, 0, 8]'),\n",
       " Text(0.6324900133155792, 0.5277777777777778, 'X[2] <= 78.733\\nentropy = 1.0\\nsamples = 2\\nvalue = [1, 0, 1]'),\n",
       " Text(0.6218375499334221, 0.4722222222222222, 'entropy = 0.0\\nsamples = 1\\nvalue = [1, 0, 0]'),\n",
       " Text(0.6431424766977364, 0.4722222222222222, 'entropy = 0.0\\nsamples = 1\\nvalue = [0, 0, 1]'),\n",
       " Text(0.6537949400798935, 0.5277777777777778, 'entropy = 0.0\\nsamples = 7\\nvalue = [0, 0, 7]'),\n",
       " Text(0.6857523302263648, 0.5833333333333334, 'X[2] <= 76.078\\nentropy = 1.296\\nsamples = 13\\nvalue = [7, 1, 5]'),\n",
       " Text(0.6750998668442078, 0.5277777777777778, 'entropy = 0.0\\nsamples = 5\\nvalue = [5, 0, 0]'),\n",
       " Text(0.6964047936085219, 0.5277777777777778, 'X[1] <= 3.5\\nentropy = 1.299\\nsamples = 8\\nvalue = [2, 1, 5]'),\n",
       " Text(0.6857523302263648, 0.4722222222222222, 'entropy = 0.0\\nsamples = 1\\nvalue = [0, 1, 0]'),\n",
       " Text(0.7070572569906791, 0.4722222222222222, 'X[2] <= 78.329\\nentropy = 0.863\\nsamples = 7\\nvalue = [2, 0, 5]'),\n",
       " Text(0.6964047936085219, 0.4166666666666667, 'entropy = 0.0\\nsamples = 4\\nvalue = [0, 0, 4]'),\n",
       " Text(0.7177097203728362, 0.4166666666666667, 'X[2] <= 80.085\\nentropy = 0.918\\nsamples = 3\\nvalue = [2, 0, 1]'),\n",
       " Text(0.7070572569906791, 0.3611111111111111, 'entropy = 0.0\\nsamples = 2\\nvalue = [2, 0, 0]'),\n",
       " Text(0.7283621837549934, 0.3611111111111111, 'entropy = 0.0\\nsamples = 1\\nvalue = [0, 0, 1]'),\n",
       " Text(0.8428761651131824, 0.75, 'X[2] <= 92.713\\nentropy = 1.417\\nsamples = 48\\nvalue = [22, 20, 6]'),\n",
       " Text(0.8322237017310253, 0.6944444444444444, 'X[0] <= 2.732\\nentropy = 1.441\\nsamples = 42\\nvalue = [16, 20, 6]'),\n",
       " Text(0.7709720372836218, 0.6388888888888888, 'X[1] <= 2.5\\nentropy = 1.383\\nsamples = 17\\nvalue = [10, 4, 3]'),\n",
       " Text(0.7496671105193076, 0.5833333333333334, 'X[2] <= 87.597\\nentropy = 0.985\\nsamples = 7\\nvalue = [3, 4, 0]'),\n",
       " Text(0.7390146471371505, 0.5277777777777778, 'X[0] <= 2.311\\nentropy = 0.722\\nsamples = 5\\nvalue = [1, 4, 0]'),\n",
       " Text(0.7283621837549934, 0.4722222222222222, 'entropy = 0.0\\nsamples = 4\\nvalue = [0, 4, 0]'),\n",
       " Text(0.7496671105193076, 0.4722222222222222, 'entropy = 0.0\\nsamples = 1\\nvalue = [1, 0, 0]'),\n",
       " Text(0.7603195739014648, 0.5277777777777778, 'entropy = 0.0\\nsamples = 2\\nvalue = [2, 0, 0]'),\n",
       " Text(0.7922769640479361, 0.5833333333333334, 'X[2] <= 86.132\\nentropy = 0.881\\nsamples = 10\\nvalue = [7, 0, 3]'),\n",
       " Text(0.7816245006657789, 0.5277777777777778, 'entropy = 0.0\\nsamples = 6\\nvalue = [6, 0, 0]'),\n",
       " Text(0.8029294274300932, 0.5277777777777778, 'X[3] <= 0.5\\nentropy = 0.811\\nsamples = 4\\nvalue = [1, 0, 3]'),\n",
       " Text(0.7922769640479361, 0.4722222222222222, 'entropy = 0.0\\nsamples = 3\\nvalue = [0, 0, 3]'),\n",
       " Text(0.8135818908122503, 0.4722222222222222, 'entropy = 0.0\\nsamples = 1\\nvalue = [1, 0, 0]'),\n",
       " Text(0.8934753661784287, 0.6388888888888888, 'X[2] <= 90.0\\nentropy = 1.273\\nsamples = 25\\nvalue = [6, 16, 3]'),\n",
       " Text(0.8828229027962716, 0.5833333333333334, 'X[2] <= 85.15\\nentropy = 1.459\\nsamples = 18\\nvalue = [6, 9, 3]'),\n",
       " Text(0.8455392809587217, 0.5277777777777778, 'X[2] <= 83.786\\nentropy = 0.811\\nsamples = 8\\nvalue = [0, 6, 2]'),\n",
       " Text(0.8348868175765646, 0.4722222222222222, 'entropy = 0.0\\nsamples = 5\\nvalue = [0, 5, 0]'),\n",
       " Text(0.8561917443408789, 0.4722222222222222, 'X[0] <= 5.446\\nentropy = 0.918\\nsamples = 3\\nvalue = [0, 1, 2]'),\n",
       " Text(0.8455392809587217, 0.4166666666666667, 'entropy = 0.0\\nsamples = 2\\nvalue = [0, 0, 2]'),\n",
       " Text(0.8668442077230359, 0.4166666666666667, 'entropy = 0.0\\nsamples = 1\\nvalue = [0, 1, 0]'),\n",
       " Text(0.9201065246338216, 0.5277777777777778, 'X[2] <= 89.499\\nentropy = 1.295\\nsamples = 10\\nvalue = [6, 3, 1]'),\n",
       " Text(0.8988015978695073, 0.4722222222222222, 'X[0] <= 5.453\\nentropy = 0.954\\nsamples = 8\\nvalue = [5, 3, 0]'),\n",
       " Text(0.8881491344873502, 0.4166666666666667, 'X[2] <= 85.601\\nentropy = 1.0\\nsamples = 6\\nvalue = [3, 3, 0]'),\n",
       " Text(0.877496671105193, 0.3611111111111111, 'entropy = 0.0\\nsamples = 1\\nvalue = [1, 0, 0]'),\n",
       " Text(0.8988015978695073, 0.3611111111111111, 'X[3] <= 0.5\\nentropy = 0.971\\nsamples = 5\\nvalue = [2, 3, 0]'),\n",
       " Text(0.8881491344873502, 0.3055555555555556, 'X[0] <= 5.203\\nentropy = 0.918\\nsamples = 3\\nvalue = [2, 1, 0]'),\n",
       " Text(0.877496671105193, 0.25, 'entropy = 0.0\\nsamples = 2\\nvalue = [2, 0, 0]'),\n",
       " Text(0.8988015978695073, 0.25, 'entropy = 0.0\\nsamples = 1\\nvalue = [0, 1, 0]'),\n",
       " Text(0.9094540612516645, 0.3055555555555556, 'entropy = 0.0\\nsamples = 2\\nvalue = [0, 2, 0]'),\n",
       " Text(0.9094540612516645, 0.4166666666666667, 'entropy = 0.0\\nsamples = 2\\nvalue = [2, 0, 0]'),\n",
       " Text(0.9414114513981359, 0.4722222222222222, 'X[0] <= 4.007\\nentropy = 1.0\\nsamples = 2\\nvalue = [1, 0, 1]'),\n",
       " Text(0.9307589880159787, 0.4166666666666667, 'entropy = 0.0\\nsamples = 1\\nvalue = [1, 0, 0]'),\n",
       " Text(0.952063914780293, 0.4166666666666667, 'entropy = 0.0\\nsamples = 1\\nvalue = [0, 0, 1]'),\n",
       " Text(0.9041278295605859, 0.5833333333333334, 'entropy = 0.0\\nsamples = 7\\nvalue = [0, 7, 0]'),\n",
       " Text(0.8535286284953395, 0.6944444444444444, 'entropy = 0.0\\nsamples = 6\\nvalue = [6, 0, 0]'),\n",
       " Text(0.9201065246338216, 0.8055555555555556, 'X[0] <= 1.802\\nentropy = 1.295\\nsamples = 20\\nvalue = [2, 6, 12]'),\n",
       " Text(0.8934753661784287, 0.75, 'X[1] <= 3.5\\nentropy = 0.722\\nsamples = 5\\nvalue = [0, 4, 1]'),\n",
       " Text(0.8828229027962716, 0.6944444444444444, 'entropy = 0.0\\nsamples = 4\\nvalue = [0, 4, 0]'),\n",
       " Text(0.9041278295605859, 0.6944444444444444, 'entropy = 0.0\\nsamples = 1\\nvalue = [0, 0, 1]'),\n",
       " Text(0.9467376830892144, 0.75, 'X[2] <= 95.514\\nentropy = 1.103\\nsamples = 15\\nvalue = [2, 2, 11]'),\n",
       " Text(0.9254327563249002, 0.6944444444444444, 'X[2] <= 94.696\\nentropy = 0.918\\nsamples = 6\\nvalue = [0, 2, 4]'),\n",
       " Text(0.914780292942743, 0.6388888888888888, 'entropy = 0.0\\nsamples = 4\\nvalue = [0, 0, 4]'),\n",
       " Text(0.9360852197070573, 0.6388888888888888, 'entropy = 0.0\\nsamples = 2\\nvalue = [0, 2, 0]'),\n",
       " Text(0.9680426098535286, 0.6944444444444444, 'X[1] <= 1.0\\nentropy = 0.764\\nsamples = 9\\nvalue = [2, 0, 7]'),\n",
       " Text(0.9573901464713716, 0.6388888888888888, 'entropy = 0.0\\nsamples = 1\\nvalue = [1, 0, 0]'),\n",
       " Text(0.9786950732356857, 0.6388888888888888, 'X[1] <= 6.5\\nentropy = 0.544\\nsamples = 8\\nvalue = [1, 0, 7]'),\n",
       " Text(0.9680426098535286, 0.5833333333333334, 'entropy = 0.0\\nsamples = 7\\nvalue = [0, 0, 7]'),\n",
       " Text(0.9893475366178429, 0.5833333333333334, 'entropy = 0.0\\nsamples = 1\\nvalue = [1, 0, 0]'),\n",
       " Text(0.8273551930758988, 0.8611111111111112, 'entropy = 0.0\\nsamples = 4\\nvalue = [0, 4, 0]')]"
      ]
     },
     "execution_count": 14,
     "metadata": {},
     "output_type": "execute_result"
    },
    {
     "data": {
      "image/png": "[encoded data removed]",
      "text/plain": [
       "<Figure size 432x288 with 1 Axes>"
      ]
     },
     "metadata": {
      "needs_background": "light"
     },
     "output_type": "display_data"
    }
   ],
   "source": [
    "#Import Decision Tree Classifier from sklearn \n",
    "from sklearn.tree import DecisionTreeClassifier\n",
    "from sklearn import tree\n",
    "tree_model_2 =DecisionTreeClassifier(criterion = 'entropy')\n",
    "tree_model_2.fit(X_train,Y_train)\n",
    "tree.plot_tree(tree_model_2)"
   ]
  },
  {
   "cell_type": "code",
   "execution_count": 15,
   "id": "c870b8e0",
   "metadata": {},
   "outputs": [
    {
     "data": {
      "text/plain": [
       "0.3770491803278688"
      ]
     },
     "execution_count": 15,
     "metadata": {},
     "output_type": "execute_result"
    }
   ],
   "source": [
    "Y_pred2 = tree_model_2.predict(X_test)\n",
    "accuracy_score(Y_test, Y_pred2)"
   ]
  },
  {
   "cell_type": "code",
   "execution_count": 16,
   "id": "eb99cc4d",
   "metadata": {},
   "outputs": [
    {
     "name": "stdout",
     "output_type": "stream",
     "text": [
      "              precision    recall  f1-score   support\n",
      "\n",
      "           0       0.44      0.48      0.46        23\n",
      "           1       0.27      0.18      0.21        17\n",
      "           2       0.36      0.43      0.39        21\n",
      "\n",
      "    accuracy                           0.38        61\n",
      "   macro avg       0.36      0.36      0.35        61\n",
      "weighted avg       0.37      0.38      0.37        61\n",
      "\n"
     ]
    },
    {
     "data": {
      "text/plain": [
       "array([[11,  1, 11],\n",
       "       [ 9,  3,  5],\n",
       "       [ 5,  7,  9]], dtype=int64)"
      ]
     },
     "execution_count": 16,
     "metadata": {},
     "output_type": "execute_result"
    }
   ],
   "source": [
    "print(classification_report(Y_test, Y_pred2))\n",
    "CM2 = confusion_matrix(Y_test, Y_pred2)\n",
    "CM2"
   ]
  },
  {
   "cell_type": "code",
   "execution_count": 17,
   "id": "eab62a8a",
   "metadata": {},
   "outputs": [
    {
     "data": {
      "text/plain": [
       "Text(42.0, 0.5, 'Truth')"
      ]
     },
     "execution_count": 17,
     "metadata": {},
     "output_type": "execute_result"
    },
    {
     "data": {
      "image/png": "[encoded data removed]",
      "text/plain": [
       "<Figure size 504x360 with 2 Axes>"
      ]
     },
     "metadata": {
      "needs_background": "light"
     },
     "output_type": "display_data"
    }
   ],
   "source": [
    "############ Plotting the Heat map\n",
    "%matplotlib inline\n",
    "import matplotlib.pyplot as plt\n",
    "import seaborn as sn\n",
    "plt.figure(figsize=(7,5))\n",
    "sn.heatmap(CM2, annot=True)\n",
    "plt.xlabel('Predicted_2')\n",
    "plt.ylabel('Truth')"
   ]
  },
  {
   "cell_type": "code",
   "execution_count": 18,
   "id": "fd10a459",
   "metadata": {},
   "outputs": [
    {
     "name": "stdout",
     "output_type": "stream",
     "text": [
      "recall_2: 0\n",
      "precision_2: [0.44]\n",
      "f1_score_2: 0\n"
     ]
    }
   ],
   "source": [
    "#Find the recall,f1-score for class type '0'\n",
    "from sklearn.metrics import recall_score, precision_score\n",
    "recall_2 = int(recall_score(Y_test, Y_pred2, average=None, labels=[0], zero_division=1))\n",
    "precision_2=precision_score(Y_test, Y_pred2, average=None, labels=[0], zero_division=1)\n",
    "f1_sc_2= int(2*(recall_2*precision_2) / (recall_2+precision_2))\n",
    "print('recall_2: '+str(recall_2))\n",
    "print('precision_2: '+str(precision_2))\n",
    "print('f1_score_2: '+str(f1_sc_2))"
   ]
  },
  {
   "cell_type": "code",
   "execution_count": 19,
   "id": "6ad26dde",
   "metadata": {},
   "outputs": [
    {
     "name": "stdout",
     "output_type": "stream",
     "text": [
      "Mean Absolute error_2:        0.8852459016393442\n",
      "Mean Squared error_2:         1.4098360655737705\n",
      "Root mean squared error_2:    1.1873651778512668\n"
     ]
    }
   ],
   "source": [
    "#Calculate Mean Absolute Error,Mean Squared Error and Root Mean Squared Error\n",
    "from sklearn.metrics import mean_absolute_error, mean_squared_error\n",
    "mae_2=mean_absolute_error(Y_test, Y_pred2)\n",
    "print('Mean Absolute error_2:        %s'%(str(mae_2)),end='\\n')\n",
    "mse_2 = mean_squared_error(Y_test, Y_pred2)\n",
    "print('Mean Squared error_2:         '+str(mse_2))\n",
    "from math import sqrt\n",
    "rms_2 = sqrt(mean_squared_error(Y_test, Y_pred2))\n",
    "print('Root mean squared error_2:    '+str(rms_2))\n",
    "# print(mae,mse,rms)"
   ]
  },
  {
   "cell_type": "code",
   "execution_count": null,
   "id": "085b8ac3",
   "metadata": {},
   "outputs": [],
   "source": []
  }
 ],
 "metadata": {
  "kernelspec": {
   "display_name": "Python 3 (ipykernel)",
   "language": "python",
   "name": "python3"
  },
  "language_info": {
   "codemirror_mode": {
    "name": "ipython",
    "version": 3
   },
   "file_extension": ".py",
   "mimetype": "text/x-python",
   "name": "python",
   "nbconvert_exporter": "python",
   "pygments_lexer": "ipython3",
   "version": "3.8.13"
  }
 },
 "nbformat": 4,
 "nbformat_minor": 5
}
